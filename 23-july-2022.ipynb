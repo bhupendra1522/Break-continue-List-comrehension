{
 "cells": [
  {
   "cell_type": "markdown",
   "id": "1acf20ef",
   "metadata": {},
   "source": [
    "break and continue"
   ]
  },
  {
   "cell_type": "code",
   "execution_count": 3,
   "id": "504e39ac",
   "metadata": {},
   "outputs": [
    {
     "name": "stdout",
     "output_type": "stream",
     "text": [
      "apple\n",
      "mango\n",
      "banana\n",
      "grapes\n"
     ]
    }
   ],
   "source": [
    "for i in [\"apple\",\"mango\",\"banana\",\"grapes\"]:\n",
    "    print(i)"
   ]
  },
  {
   "cell_type": "code",
   "execution_count": 5,
   "id": "ae8f0cea",
   "metadata": {},
   "outputs": [
    {
     "name": "stdout",
     "output_type": "stream",
     "text": [
      "apple\n",
      "mango\n"
     ]
    }
   ],
   "source": [
    "for i in [\"apple\",\"mango\",\"banana\",\"grapes\"]:\n",
    "    if(i==\"banana\"):\n",
    "        break\n",
    "    print(i)"
   ]
  },
  {
   "cell_type": "code",
   "execution_count": 6,
   "id": "f79777e7",
   "metadata": {},
   "outputs": [
    {
     "name": "stdout",
     "output_type": "stream",
     "text": [
      "100\n",
      "200\n",
      "300\n",
      "400\n",
      "500\n"
     ]
    }
   ],
   "source": [
    "for x in [100,200,300,400,500]:\n",
    "    print(x)"
   ]
  },
  {
   "cell_type": "code",
   "execution_count": 8,
   "id": "118228e7",
   "metadata": {},
   "outputs": [
    {
     "name": "stdout",
     "output_type": "stream",
     "text": [
      "100\n",
      "200\n"
     ]
    }
   ],
   "source": [
    "for x in [100,200,300,400,500]:\n",
    "    if(x==300):\n",
    "        break\n",
    "    print(x)"
   ]
  },
  {
   "cell_type": "code",
   "execution_count": 14,
   "id": "527c0888",
   "metadata": {},
   "outputs": [
    {
     "name": "stdout",
     "output_type": "stream",
     "text": [
      "100\n",
      "200\n",
      "end of the loop\n"
     ]
    }
   ],
   "source": [
    "for x in [100,200,300,400,500]:\n",
    "    if(x==300):\n",
    "        break\n",
    "    print(x)\n",
    "    \n",
    "print(\"end of the loop\")"
   ]
  },
  {
   "cell_type": "code",
   "execution_count": 22,
   "id": "5c971275",
   "metadata": {},
   "outputs": [
    {
     "name": "stdout",
     "output_type": "stream",
     "text": [
      "100\n",
      "end inside the loop\n",
      "200\n",
      "end inside the loop\n",
      "end outside of the loop\n"
     ]
    }
   ],
   "source": [
    "for x in [100,200,300,400,500]:\n",
    "    if(x==300):\n",
    "        break\n",
    "    print(x)\n",
    "    print(\"end inside the loop\")\n",
    "    \n",
    "print(\"end outside of the loop\")"
   ]
  },
  {
   "cell_type": "code",
   "execution_count": 16,
   "id": "76fedd30",
   "metadata": {},
   "outputs": [
    {
     "name": "stdout",
     "output_type": "stream",
     "text": [
      "100\n",
      "end\n",
      "200\n",
      "end\n",
      "300\n",
      "end\n",
      "end outside of the loop\n"
     ]
    }
   ],
   "source": [
    "for x in [100,200,300,400,500]:\n",
    "    if(x==400):\n",
    "        break\n",
    "    print(x)\n",
    "    print(\"end\")\n",
    "    \n",
    "print(\"end outside of the loop\")"
   ]
  },
  {
   "cell_type": "code",
   "execution_count": 17,
   "id": "2797ebe2",
   "metadata": {},
   "outputs": [
    {
     "name": "stdout",
     "output_type": "stream",
     "text": [
      "1\n",
      "inside the loop\n",
      "2\n",
      "inside the loop\n",
      "3\n",
      "inside the loop\n",
      "4\n",
      "inside the loop\n",
      "5\n",
      "inside the loop\n",
      "6\n",
      "inside the loop\n"
     ]
    }
   ],
   "source": [
    "for p in (1,2,3,4,5,6):\n",
    "    print(p)\n",
    "    print(\"inside the loop\")"
   ]
  },
  {
   "cell_type": "code",
   "execution_count": 20,
   "id": "60895a52",
   "metadata": {},
   "outputs": [
    {
     "name": "stdout",
     "output_type": "stream",
     "text": [
      "1\n",
      "inside the loop\n",
      "heloo\n",
      "outside the loop\n",
      "2\n",
      "inside the loop\n",
      "heloo\n",
      "outside the loop\n",
      "3\n",
      "inside the loop\n",
      "heloo\n",
      "outside the loop\n",
      "4\n",
      "inside the loop\n",
      "heloo\n",
      "outside the loop\n",
      "5\n",
      "inside the loop\n",
      "heloo\n",
      "outside the loop\n",
      "6\n",
      "inside the loop\n",
      "heloo\n",
      "outside the loop\n"
     ]
    }
   ],
   "source": [
    "for p in (1,2,3,4,5,6):\n",
    "    print(p)\n",
    "    print(\"inside the loop\")\n",
    "    print(\"heloo\")\n",
    "    print(\"outside the loop\")"
   ]
  },
  {
   "cell_type": "code",
   "execution_count": 35,
   "id": "3fc63848",
   "metadata": {},
   "outputs": [
    {
     "name": "stdout",
     "output_type": "stream",
     "text": [
      "1\n",
      "2\n",
      "3\n",
      "4\n",
      "5\n",
      "6\n",
      "7\n",
      "8\n",
      "9\n"
     ]
    }
   ],
   "source": [
    "for p in range(1,10):\n",
    "    print(p)\n",
    "    "
   ]
  },
  {
   "cell_type": "code",
   "execution_count": null,
   "id": "e7de9f77",
   "metadata": {},
   "outputs": [],
   "source": []
  },
  {
   "cell_type": "markdown",
   "id": "b29da083",
   "metadata": {},
   "source": [
    "list comrehension"
   ]
  },
  {
   "cell_type": "code",
   "execution_count": 3,
   "id": "fe846ed5",
   "metadata": {},
   "outputs": [
    {
     "name": "stdout",
     "output_type": "stream",
     "text": [
      "[1, 2, 3, 4, 5]\n"
     ]
    }
   ],
   "source": [
    "list1=[1,2,3,4,5]\n",
    "\n",
    "m=[i for i in list1]\n",
    "\n",
    "print(m)"
   ]
  },
  {
   "cell_type": "code",
   "execution_count": 4,
   "id": "b06addda",
   "metadata": {},
   "outputs": [
    {
     "name": "stdout",
     "output_type": "stream",
     "text": [
      "[100, 200, 300]\n"
     ]
    }
   ],
   "source": [
    "list2=[100,200,300]\n",
    "\n",
    "d=[i for i in list2]\n",
    "print(d)"
   ]
  },
  {
   "cell_type": "code",
   "execution_count": 7,
   "id": "22ba2970",
   "metadata": {},
   "outputs": [
    {
     "name": "stdout",
     "output_type": "stream",
     "text": [
      "[2, 4, 6, 8, 10]\n"
     ]
    }
   ],
   "source": [
    "list3=[1,2,3,4,5,6,7,8,9,10]\n",
    "\n",
    "d=[i for i in list3 if i%2==0]\n",
    "print(d )"
   ]
  },
  {
   "cell_type": "code",
   "execution_count": 17,
   "id": "d67a7912",
   "metadata": {},
   "outputs": [
    {
     "data": {
      "text/plain": [
       "[0, 1, 2, 3, 4, 5, 6, 7, 8, 9, 10, 11, 12, 13, 14, 15, 16, 17, 18, 19, 20]"
      ]
     },
     "execution_count": 17,
     "metadata": {},
     "output_type": "execute_result"
    }
   ],
   "source": [
    "p=[i for i in range(21)]\n",
    "\n",
    "p"
   ]
  },
  {
   "cell_type": "code",
   "execution_count": 18,
   "id": "c89bd5bc",
   "metadata": {},
   "outputs": [
    {
     "data": {
      "text/plain": [
       "[0, 2, 4, 6, 8, 10, 12, 14, 16, 18, 20]"
      ]
     },
     "execution_count": 18,
     "metadata": {},
     "output_type": "execute_result"
    }
   ],
   "source": [
    "p=[i for i in range(21) if i%2==0]\n",
    "   \n",
    "p"
   ]
  },
  {
   "cell_type": "code",
   "execution_count": 19,
   "id": "eb2aa612",
   "metadata": {},
   "outputs": [
    {
     "data": {
      "text/plain": [
       "[1, 3, 5, 7, 9, 11, 13, 15, 17, 19]"
      ]
     },
     "execution_count": 19,
     "metadata": {},
     "output_type": "execute_result"
    }
   ],
   "source": [
    "p=[i for i in range(21) if i%2!=0]\n",
    "   \n",
    "p"
   ]
  },
  {
   "cell_type": "code",
   "execution_count": 20,
   "id": "b584ab34",
   "metadata": {},
   "outputs": [
    {
     "data": {
      "text/plain": [
       "[0, 4, 16, 36, 64, 100, 144, 196, 256, 324, 400]"
      ]
     },
     "execution_count": 20,
     "metadata": {},
     "output_type": "execute_result"
    }
   ],
   "source": [
    "p=[i**2 for i in range(21) if i%2==0]\n",
    "   \n",
    "p"
   ]
  },
  {
   "cell_type": "code",
   "execution_count": 24,
   "id": "a10e8444",
   "metadata": {},
   "outputs": [
    {
     "data": {
      "text/plain": [
       "200"
      ]
     },
     "execution_count": 24,
     "metadata": {},
     "output_type": "execute_result"
    }
   ],
   "source": [
    "a=100\n",
    "b=200\n",
    "\n",
    "print\n",
    "a\n",
    "b\n"
   ]
  },
  {
   "cell_type": "code",
   "execution_count": 29,
   "id": "007167d2",
   "metadata": {},
   "outputs": [
    {
     "data": {
      "text/plain": [
       "[1, 3, 5, 7, 9, 11, 13, 15, 17, 19]"
      ]
     },
     "execution_count": 29,
     "metadata": {},
     "output_type": "execute_result"
    }
   ],
   "source": [
    "p=[i for i in range(21) if i%2!=0]\n",
    "   \n",
    "p"
   ]
  },
  {
   "cell_type": "code",
   "execution_count": 33,
   "id": "16669c19",
   "metadata": {},
   "outputs": [
    {
     "data": {
      "text/plain": [
       "[1, 2, 3, 4]"
      ]
     },
     "execution_count": 33,
     "metadata": {},
     "output_type": "execute_result"
    }
   ],
   "source": [
    "m=[1,2,3,4]\n",
    "\n",
    "d=[i for i in m]\n",
    "\n",
    "d"
   ]
  },
  {
   "cell_type": "code",
   "execution_count": null,
   "id": "37016e56",
   "metadata": {},
   "outputs": [],
   "source": []
  }
 ],
 "metadata": {
  "kernelspec": {
   "display_name": "Python 3 (ipykernel)",
   "language": "python",
   "name": "python3"
  },
  "language_info": {
   "codemirror_mode": {
    "name": "ipython",
    "version": 3
   },
   "file_extension": ".py",
   "mimetype": "text/x-python",
   "name": "python",
   "nbconvert_exporter": "python",
   "pygments_lexer": "ipython3",
   "version": "3.9.12"
  }
 },
 "nbformat": 4,
 "nbformat_minor": 5
}
